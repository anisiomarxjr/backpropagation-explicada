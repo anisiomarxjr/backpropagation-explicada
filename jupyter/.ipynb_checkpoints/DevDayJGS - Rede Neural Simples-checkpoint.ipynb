{
 "cells": [
  {
   "cell_type": "markdown",
   "metadata": {},
   "source": [
    "# Rede Neural Para Classificar Pestinhas\n",
    "\n",
    "Usando a analogia de que uma rede neural é como uma cozinha gigante comandada por um chef, criaremos uma rede neural (mantendo os termos da analogia) para reconhecer o Loki e o Gauss, partindo somente das fotos deles.\n",
    "\n",
    "---\n",
    "\n",
    "<div style=\"display: flex; flex-direction: row;\">\n",
    "    <div style=\"padding: 1rem; background: linear-gradient(to top left, #4B77BE, #89C4F4)\">\n",
    "        <h2>&#127244; Gauss</h2>\n",
    "        <img src=\"./imagens_notebook/Gauss.jpg\">\n",
    "    </div>\n",
    "    <div style=\"margin-left: 10px; padding: 1rem; background: linear-gradient(to top left, #FFA400, #F4D03F)\">\n",
    "        <h2>&#10102; Loki</h2>\n",
    "        <img src=\"./imagens_notebook/Loki.jpg\">\n",
    "    </div>\n",
    "</div>\n",
    "\n",
    "Trabalharemos com imagens com tamanho reduzido (120x90 pixels) para acelerar o treinamento. Nenhum tratamento será feito nas imagens além do redimensionamento."
   ]
  },
  {
   "cell_type": "markdown",
   "metadata": {},
   "source": [
    "# &#10102; Carregar fotos de treinamento\n",
    "\n",
    "A pasta `dataset/` contém as fotos que a rede usará para treinamento. Cada foto contém 10800 pixels ($120\\times90$), e separaremos os canais de cor (RGB) de cada pixel, totalizando 32400 ($10800\\times3$) elementos de entrada em nossa rede. "
   ]
  },
  {
   "cell_type": "code",
   "execution_count": 1,
   "metadata": {},
   "outputs": [
    {
     "name": "stdout",
     "output_type": "stream",
     "text": [
      "formato da matriz de treinamento: (32400, 123)\n",
      "formato da matriz de teste: (32400, 20)\n"
     ]
    }
   ],
   "source": [
    "import os\n",
    "import random\n",
    "from PIL import Image\n",
    "import numpy as np\n",
    "\n",
    "nomes = [b'Gauss', b'Loki']\n",
    "\n",
    "def ler_imagens_do_diretorio(treinamento = True): \n",
    "    diretorio = \"treinamento\" if treinamento else \"teste\"\n",
    "    path = f\"./dataset/{diretorio}/\"\n",
    "    files = os.listdir(path)\n",
    "    random.shuffle(files)\n",
    "    \n",
    "    x_original = []\n",
    "    y_original = [[]]\n",
    "\n",
    "    for item in files:\n",
    "        im = Image.open(path + item)\n",
    "        flat = np.array(im)\n",
    "        x_original.append(flat)\n",
    "        y = 0 if \"Gauss\" in item else 1\n",
    "        y_original[0].append(y)\n",
    "        \n",
    "    return x_original, y_original\n",
    "\n",
    "def carregar_imagens():\n",
    "    x_treinamento_orig = []\n",
    "    y_treinamento_orig = [[]]\n",
    "    x_teste_orig = []\n",
    "    y_teste_orig = [[]]\n",
    "    classes = [b'Gauss', b'Loki']\n",
    "    \n",
    "    x_treinamento_orig, y_treinamento_orig = ler_imagens_do_diretorio()\n",
    "    x_teste_orig, y_teste_orig = ler_imagens_do_diretorio(treinamento = False)\n",
    "    \n",
    "    return np.array(x_treinamento_orig), np.array(y_treinamento_orig), np.array(x_teste_orig), np.array(y_teste_orig)\n",
    "\n",
    "exemplos_originais, rotulos, amostra_teste_original, rotulos_teste = carregar_imagens()\n",
    "exemplos_reshape = exemplos_originais.reshape(exemplos_originais.shape[0], -1).T\n",
    "amostra_teste_reshape = amostra_teste_original.reshape(amostra_teste_original.shape[0], -1).T\n",
    "\n",
    "exemplos = exemplos_reshape/255.\n",
    "amostra_teste = amostra_teste_reshape/255.\n",
    "\n",
    "print (\"formato da matriz de treinamento: \" + str(exemplos.shape))\n",
    "print (\"formato da matriz de teste: \" + str(amostra_teste.shape))"
   ]
  },
  {
   "cell_type": "markdown",
   "metadata": {},
   "source": [
    "Ótimo! Agora vamos \"desenrolar\" a matriz de imagens para servir de entrada em nossa rede neural."
   ]
  },
  {
   "cell_type": "markdown",
   "metadata": {
    "collapsed": true
   },
   "source": [
    "# &#10103; Montar layout da cozinha\n",
    "\n",
    "O chef precisa montar o layout da cozinha, com as praças (bancadas) e os equipamentos que serão utilizados pelas brigadas (times).\n",
    "\n",
    "Neste exemplo, a cozinha será formada por:\n",
    "\n",
    "| Brigada  | Número de cozinheiros | Responsabilidade                                      | Ativação |\n",
    "| :------: |:---------------------:| :-----------------------------------------------------| :------: |\n",
    "| 1        | 20                    | Trabalhar nos ingredientes dos pratos de treinamento  | Freezer  |\n",
    "| 2        | 9                     | Trabalhar no *mise en place* feito pelo primeiro time | Freezer  |\n",
    "| 3        | 7                     | Trabalhar no *mise en place* feito pelo segundo time  | Freezer  |\n",
    "| 4        | 5                     | Trabalhar no *mise en place* feito pelo terceiro time | Freezer  |\n",
    "| 5        | 1                     | Preparar o prato para apresentação ao chef            | Forno    |\n"
   ]
  },
  {
   "cell_type": "code",
   "execution_count": 2,
   "metadata": {
    "collapsed": true
   },
   "outputs": [],
   "source": [
    "# 32400 representa os ingredientes dos pratos de treinamento. \n",
    "# Em nosso exemplo, são as intensidades dos pixels das imagens do Loki e Gauss\n",
    "layout_cozinha = [32400, 20, 9, 7, 5, 1]"
   ]
  },
  {
   "cell_type": "markdown",
   "metadata": {},
   "source": [
    "# &#10104; Contratar cozinheiros\n",
    "\n",
    "Ao contratar os cozinheiros, eles chegam com habilidades diversas em relação aos ingredientes que a cozinha trabalha e em relação ao trabalho das brigadas anteriores. Essa função simula isso por iniciar as habilidades de todos de forma aleatória:"
   ]
  },
  {
   "cell_type": "code",
   "execution_count": 3,
   "metadata": {
    "collapsed": true
   },
   "outputs": [],
   "source": [
    "import numpy as np\n",
    "\n",
    "HABILIDADES_BRIGADA = \"HABILIDADES_BRIGADA\"\n",
    "EQUIPAMENTOS_BRIGADA = \"EQUIPAMENTOS_BRIGADA\"\n",
    "\n",
    "def contrata_time(layout_cozinha):\n",
    "    np.random.seed(1)\n",
    "    habilidades_por_brigada = {}\n",
    "    numero_brigadas = len(layout_cozinha) \n",
    "\n",
    "    for brigada in range(1, numero_brigadas):\n",
    "        habilidades_por_brigada[HABILIDADES_BRIGADA + str(brigada)] = np.random.randn(layout_cozinha[brigada], layout_cozinha[brigada - 1]) / np.sqrt(layout_cozinha[brigada - 1]) \n",
    "        habilidades_por_brigada[EQUIPAMENTOS_BRIGADA + str(brigada)] = np.zeros((layout_cozinha[brigada], 1))\n",
    "        \n",
    "        assert(habilidades_por_brigada[HABILIDADES_BRIGADA + str(brigada)].shape == (layout_cozinha[brigada], layout_cozinha[brigada - 1]))\n",
    "        assert(habilidades_por_brigada[EQUIPAMENTOS_BRIGADA + str(brigada)].shape == (layout_cozinha[brigada], 1))\n",
    "        \n",
    "    return habilidades_por_brigada"
   ]
  },
  {
   "cell_type": "markdown",
   "metadata": {},
   "source": [
    "Para termos uma noção do que ocorre, vamos analisar as habilidades do time x: #TODO"
   ]
  },
  {
   "cell_type": "markdown",
   "metadata": {},
   "source": [
    "# &#10105; Descrever atividades das brigadas\n",
    "\n",
    "> Um primeiro passo nessa atividade é deixar preparado as funções que serão chamadas representando o papel do forno e freezer. Existe uma explicação técnica por trás dessas funções, mas não se preocupe com elas agora."
   ]
  },
  {
   "cell_type": "code",
   "execution_count": 4,
   "metadata": {
    "collapsed": true
   },
   "outputs": [],
   "source": [
    "def forno(resultado_trabalhos_manuais):\n",
    "    mise_en_place = 1/(1 + np.exp(-resultado_trabalhos_manuais))\n",
    "    caderno_de_ocorrencias = resultado_trabalhos_manuais\n",
    "    \n",
    "    return mise_en_place, caderno_de_ocorrencias\n",
    "\n",
    "\n",
    "def freezer(resultado_trabalhos_manuais):\n",
    "    mise_en_place = np.maximum(0,resultado_trabalhos_manuais)\n",
    "    \n",
    "    assert(mise_en_place.shape == resultado_trabalhos_manuais.shape)\n",
    "    \n",
    "    caderno_de_ocorrencias = resultado_trabalhos_manuais\n",
    "    return mise_en_place, caderno_de_ocorrencias"
   ]
  },
  {
   "cell_type": "markdown",
   "metadata": {},
   "source": [
    "<div style=\"background-color: #3498db; display: inline-block; border: 1px solid black; padding: 2px\">4.1</div> Primeiro, as brigadas precisam trabalhar nos ingredientes ou no *mise en place* do time anterior. "
   ]
  },
  {
   "cell_type": "code",
   "execution_count": 5,
   "metadata": {
    "collapsed": true
   },
   "outputs": [],
   "source": [
    "def trabalhos_manuais(mise_en_place_anterior, habilidades_da_brigada, equipamentos_da_brigada):\n",
    "    resultado = np.dot(habilidades_da_brigada, mise_en_place_anterior) + equipamentos_da_brigada\n",
    "    \n",
    "    assert(resultado.shape == (habilidades_da_brigada.shape[0], mise_en_place_anterior.shape[1]))\n",
    "    caderno_de_ocorrencias = (mise_en_place_anterior, habilidades_da_brigada, equipamentos_da_brigada)\n",
    "    \n",
    "    return resultado, caderno_de_ocorrencias"
   ]
  },
  {
   "cell_type": "markdown",
   "metadata": {},
   "source": [
    "<div style=\"background-color: #3498db; display: inline-block; border: 1px solid black; padding: 2px\">4.2</div> Depois, o resultado do trabalho é organizado para ser utilizado pelo time posterior. Isso é feito levando o que foi preparado para o aparelho disponível pela brigada, um freezer ou forno, produzindo um novo *mise en place*:"
   ]
  },
  {
   "cell_type": "code",
   "execution_count": 6,
   "metadata": {
    "collapsed": true
   },
   "outputs": [],
   "source": [
    "def produz_novo_mise_en_place(mise_en_place_anterior, habilidades_da_brigada, equipamentos_da_brigada, aparelho):\n",
    "    resultado_prep_manual, caderno_de_ocorrencias_manual = trabalhos_manuais(mise_en_place_anterior, habilidades_da_brigada, equipamentos_da_brigada)\n",
    "\n",
    "    if aparelho == \"forno\":\n",
    "        novo_mise_en_place, caderno_de_ocorrencias_aparelho = forno(resultado_prep_manual)    \n",
    "    elif aparelho == \"freezer\":\n",
    "        novo_mise_en_place, caderno_de_ocorrencias_aparelho = freezer(resultado_prep_manual)\n",
    "    \n",
    "    assert (novo_mise_en_place.shape == (habilidades_da_brigada.shape[0], mise_en_place_anterior.shape[1]))\n",
    "    caderno_de_ocorrencias = (caderno_de_ocorrencias_manual, caderno_de_ocorrencias_aparelho)\n",
    "\n",
    "    return novo_mise_en_place, caderno_de_ocorrencias"
   ]
  },
  {
   "cell_type": "markdown",
   "metadata": {},
   "source": [
    "<div style=\"background-color: #3498db; display: inline-block; border: 1px solid black; padding: 2px\">4.3</div> Por fim, preparamos uma função responsável por percorrer todas as brigadas, cada uma realizando o seu trabalho e disponibilizando para a brigada posterior, até que a última brigada faça a preparação dos pratos."
   ]
  },
  {
   "cell_type": "code",
   "execution_count": 7,
   "metadata": {
    "collapsed": true
   },
   "outputs": [],
   "source": [
    "def prepara_pratos(exemplos, habilidades_por_brigada):\n",
    "    caderno_de_ocorrencias = []\n",
    "    mise_en_place = exemplos\n",
    "    numero_brigadas = len(habilidades_por_brigada) // 2  # número de brigadas na cozinha\n",
    "    \n",
    "    for brigada in range(1, numero_brigadas):\n",
    "        mep_anterior = mise_en_place \n",
    "        mise_en_place, ocorrencias = produz_novo_mise_en_place(mep_anterior, habilidades_por_brigada[HABILIDADES_BRIGADA + str(brigada)], habilidades_por_brigada[EQUIPAMENTOS_BRIGADA + str(brigada)], aparelho = \"freezer\")\n",
    "        caderno_de_ocorrencias.append(ocorrencias)\n",
    "    \n",
    "    pratos, ocorrencias = produz_novo_mise_en_place(mise_en_place, habilidades_por_brigada[HABILIDADES_BRIGADA + str(numero_brigadas)], habilidades_por_brigada[EQUIPAMENTOS_BRIGADA + str(numero_brigadas)], aparelho = \"forno\")\n",
    "    caderno_de_ocorrencias.append(ocorrencias)\n",
    "    \n",
    "    assert(pratos.shape == (1, exemplos.shape[1]))\n",
    "            \n",
    "    return pratos, caderno_de_ocorrencias"
   ]
  },
  {
   "cell_type": "markdown",
   "metadata": {},
   "source": [
    "# &#10106; Definir como encontrar a culpa das brigadas/*mise en place*\n",
    "\n",
    "As funções abaixo definem o procedimento para encontrar a culpa da habilidade do time, dos equipamentos utilizados pelo time e quando da culpa veio do *mise en place* produzido pelo time anterior:\n"
   ]
  },
  {
   "cell_type": "code",
   "execution_count": 8,
   "metadata": {
    "collapsed": true
   },
   "outputs": [],
   "source": [
    "def acha_culpa_freezer(culpa_mise_en_place, caderno_de_ocorrencias):    \n",
    "    preparacao_manual = caderno_de_ocorrencias\n",
    "    culpa_da_preparacao_manual = np.array(culpa_mise_en_place, copy=True) \n",
    "    \n",
    "    culpa_da_preparacao_manual[preparacao_manual <= 0] = 0\n",
    "    \n",
    "    assert (culpa_da_preparacao_manual.shape == preparacao_manual.shape)\n",
    "    \n",
    "    return culpa_da_preparacao_manual\n",
    "\n",
    "\n",
    "def acha_culpa_forno(culpa_da_montagem, caderno_de_ocorrencias):\n",
    "    preparacao_manual = caderno_de_ocorrencias\n",
    "    \n",
    "    s = 1/(1+np.exp(-preparacao_manual))\n",
    "    culpa_da_preparacao_manual = culpa_da_montagem * s * (1-s)\n",
    "    \n",
    "    assert (culpa_da_preparacao_manual.shape == preparacao_manual.shape)\n",
    "    \n",
    "    return culpa_da_preparacao_manual\n",
    "\n",
    "\n",
    "def acha_culpa_habilidades_equipamentos(culpa_preparacao_manual, caderno_de_ocorrencias):\n",
    "    mise_en_place_recebido, habilidades_brigada, equipamentos_brigada = caderno_de_ocorrencias\n",
    "    numero_pratos = mise_en_place_recebido.shape[1]\n",
    "\n",
    "    culpa_habilidades_brigada = 1./numero_pratos * np.dot(culpa_preparacao_manual, mise_en_place_recebido.T)\n",
    "    culpa_equipamentos_brigada = 1./numero_pratos * np.sum(culpa_preparacao_manual, axis = 1, keepdims = True)\n",
    "    culpa_mise_en_place_recebido = np.dot(habilidades_brigada.T, culpa_preparacao_manual)\n",
    "    \n",
    "    assert (culpa_mise_en_place_recebido.shape == mise_en_place_recebido.shape)\n",
    "    assert (culpa_habilidades_brigada.shape == habilidades_brigada.shape)\n",
    "    assert (culpa_equipamentos_brigada.shape == equipamentos_brigada.shape)\n",
    "    \n",
    "    return culpa_mise_en_place_recebido, culpa_habilidades_brigada, culpa_equipamentos_brigada\n",
    "\n",
    "\n",
    "def acha_culpa_brigada(culpa_mise_en_place, caderno_de_ocorrencias, aparelho):\n",
    "    preparacao_manual, mise_en_place = caderno_de_ocorrencias\n",
    "    \n",
    "    if aparelho == \"freezer\":\n",
    "        culpa_preparacao_manual = acha_culpa_freezer(culpa_mise_en_place, mise_en_place)\n",
    "    elif aparelho == \"forno\":\n",
    "        culpa_preparacao_manual = acha_culpa_forno(culpa_mise_en_place, mise_en_place)\n",
    "    \n",
    "    culpa_mise_en_place_anterior, culpa_habilidades_brigada, culpa_equipamentos_brigada = acha_culpa_habilidades_equipamentos(culpa_preparacao_manual, preparacao_manual)\n",
    "    \n",
    "    return culpa_mise_en_place_anterior, culpa_habilidades_brigada, culpa_equipamentos_brigada"
   ]
  },
  {
   "cell_type": "markdown",
   "metadata": {},
   "source": [
    "Ah, finalmente chegamos ao backpropagation. Essa fase é como se fosse uma retrospectiva para o time, para que verifiquem onde erraram e aprendam.\n",
    "\n",
    "Primeiro, o chef calcula uma pontuação de erros. Quanto maior, pior. A partir daí passa a distribuir a culpa entre todos os membros do time."
   ]
  },
  {
   "cell_type": "code",
   "execution_count": 9,
   "metadata": {
    "collapsed": true
   },
   "outputs": [],
   "source": [
    "def calcula_pontuacao_de_erro(pratos_do_time, pratos_corretos):\n",
    "    numero_pratos = pratos_corretos.shape[1]\n",
    "\n",
    "    erro = (1./numero_pratos) * (-np.dot(pratos_corretos,np.log(pratos_do_time).T) - np.dot(1 - pratos_corretos, np.log(1 - pratos_do_time).T))\n",
    "    \n",
    "    erro = np.squeeze(erro)\n",
    "    assert(erro.shape == ())\n",
    "    \n",
    "    return erro"
   ]
  },
  {
   "cell_type": "code",
   "execution_count": 10,
   "metadata": {
    "collapsed": true
   },
   "outputs": [],
   "source": [
    "CULPA_MISE_EN_PLACE_RECEBIDO = \"CULPA_MISE_EN_PLACE_RECEBIDO\"\n",
    "CULPA_HABILIDADES_BRIGADA = \"CULPA_HABILIDADES_BRIGADA\"\n",
    "CULPA_EQUIPAMENTOS_BRIGADA = \"CULPA_EQUIPAMENTOS_BRIGADA\"\n",
    "\n",
    "def distribui_culpa(pratos_do_time, pratos_corretos, caderno_de_ocorrencias):\n",
    "    culpa = {}\n",
    "    numero_brigadas = len(caderno_de_ocorrencias) \n",
    "    numero_pratos = pratos_do_time.shape[1]\n",
    "    pratos_corretos = pratos_corretos.reshape(pratos_do_time.shape) \n",
    "    \n",
    "    erro_na_tentativa = - (np.divide(pratos_corretos, pratos_do_time) - np.divide(1 - pratos_corretos, 1 - pratos_do_time))\n",
    "    \n",
    "    ocorrencia_atual = caderno_de_ocorrencias[numero_brigadas - 1]\n",
    "    culpa[CULPA_MISE_EN_PLACE_RECEBIDO + str(numero_brigadas)], culpa[CULPA_HABILIDADES_BRIGADA + str(numero_brigadas)], culpa[CULPA_EQUIPAMENTOS_BRIGADA + str(numero_brigadas)] = acha_culpa_brigada(erro_na_tentativa, ocorrencia_atual, aparelho = \"forno\")\n",
    "    \n",
    "    for brigada in reversed(range(numero_brigadas - 1)):\n",
    "        ocorrencia_atual = caderno_de_ocorrencias[brigada]\n",
    "        culpa_mise_en_place, culpa_habilidades_brigada, culpa_equipamentos_brigada = acha_culpa_brigada(culpa[CULPA_MISE_EN_PLACE_RECEBIDO + str(brigada + 2)], ocorrencia_atual, aparelho = \"freezer\")\n",
    "        culpa[CULPA_MISE_EN_PLACE_RECEBIDO + str(brigada + 1)] = culpa_mise_en_place\n",
    "        culpa[CULPA_HABILIDADES_BRIGADA + str(brigada + 1)] = culpa_habilidades_brigada\n",
    "        culpa[CULPA_EQUIPAMENTOS_BRIGADA + str(brigada + 1)] = culpa_equipamentos_brigada\n",
    "\n",
    "    return culpa"
   ]
  },
  {
   "cell_type": "markdown",
   "metadata": {},
   "source": [
    "# &#10107; Chef faz as melhorias de habilidade e de equipamentos necessárias\n",
    "\n",
    "..."
   ]
  },
  {
   "cell_type": "code",
   "execution_count": 11,
   "metadata": {
    "collapsed": true
   },
   "outputs": [],
   "source": [
    "def upgrade_habilidades_equipamentos(habilidades_por_brigada, culpa, grosseria_do_chef):\n",
    "    numero_de_brigadas = len(habilidades_por_brigada) // 2 \n",
    "\n",
    "    for brigada in range(numero_de_brigadas):\n",
    "        habilidades_por_brigada[HABILIDADES_BRIGADA + str(brigada + 1)] = habilidades_por_brigada[HABILIDADES_BRIGADA + str(brigada + 1)] - grosseria_do_chef * culpa[CULPA_HABILIDADES_BRIGADA + str(brigada + 1)]\n",
    "        habilidades_por_brigada[EQUIPAMENTOS_BRIGADA + str(brigada + 1)] = habilidades_por_brigada[EQUIPAMENTOS_BRIGADA + str(brigada + 1)] - grosseria_do_chef * culpa[CULPA_EQUIPAMENTOS_BRIGADA + str(brigada + 1)]\n",
    "        \n",
    "    return habilidades_por_brigada"
   ]
  },
  {
   "cell_type": "markdown",
   "metadata": {},
   "source": [
    "# &#10108; Treinamento\n",
    "\n",
    "\"Olhem aqui, (seus merdinhas|cozinheiros|time)\"..."
   ]
  },
  {
   "cell_type": "code",
   "execution_count": 12,
   "metadata": {
    "collapsed": true
   },
   "outputs": [],
   "source": [
    "import matplotlib.pyplot as plt\n",
    "\n",
    "def treinamento(exemplos, pratos_corretos, layout_cozinha, grosseria = 0.0075, tentativas = 3000):\n",
    "    np.random.seed(1)\n",
    "    erros = [] \n",
    "    \n",
    "    habilidades_por_brigada = contrata_time(layout_cozinha)\n",
    "\n",
    "    for tentativa in range(0, tentativas):\n",
    "        pratos_do_time, caderno_de_ocorrencias = prepara_pratos(exemplos, habilidades_por_brigada)\n",
    "        \n",
    "        pontuacao_de_erro = calcula_pontuacao_de_erro(pratos_do_time, pratos_corretos)\n",
    "\n",
    "        culpa = distribui_culpa(pratos_do_time, pratos_corretos, caderno_de_ocorrencias)\n",
    "\n",
    "        habilidades_por_brigada = upgrade_habilidades_equipamentos(habilidades_por_brigada, culpa, grosseria)\n",
    "\n",
    "        if tentativa % 100 == 0:\n",
    "            print (\"Pontuação de erro após %i tentativas: %f\" %(tentativa, pontuacao_de_erro))\n",
    "            erros.append(pontuacao_de_erro)\n",
    "            \n",
    "    plt.plot(np.squeeze(erros))\n",
    "    plt.ylabel('erro')\n",
    "    plt.xlabel('tentativas')\n",
    "    plt.title(\"Grosseria = \" + str(grosseria))\n",
    "    plt.show()\n",
    "    \n",
    "    return habilidades_por_brigada"
   ]
  },
  {
   "cell_type": "markdown",
   "metadata": {},
   "source": [
    "Agora vamos ao treinamento..."
   ]
  },
  {
   "cell_type": "code",
   "execution_count": 13,
   "metadata": {},
   "outputs": [
    {
     "name": "stdout",
     "output_type": "stream",
     "text": [
      "Pontuação de erro após 0 tentativas: 0.693696\n",
      "Pontuação de erro após 100 tentativas: 0.315101\n",
      "Pontuação de erro após 200 tentativas: 0.270060\n",
      "Pontuação de erro após 300 tentativas: 0.120974\n",
      "Pontuação de erro após 400 tentativas: 0.091664\n",
      "Pontuação de erro após 500 tentativas: 0.034569\n",
      "Pontuação de erro após 600 tentativas: 0.014198\n",
      "Pontuação de erro após 700 tentativas: 0.007549\n",
      "Pontuação de erro após 800 tentativas: 0.004785\n",
      "Pontuação de erro após 900 tentativas: 0.003372\n",
      "Pontuação de erro após 1000 tentativas: 0.002539\n",
      "Pontuação de erro após 1100 tentativas: 0.002002\n",
      "Pontuação de erro após 1200 tentativas: 0.001634\n",
      "Pontuação de erro após 1300 tentativas: 0.001369\n",
      "Pontuação de erro após 1400 tentativas: 0.001170\n",
      "Pontuação de erro após 1500 tentativas: 0.001016\n",
      "Pontuação de erro após 1600 tentativas: 0.000893\n",
      "Pontuação de erro após 1700 tentativas: 0.000795\n",
      "Pontuação de erro após 1800 tentativas: 0.000716\n",
      "Pontuação de erro após 1900 tentativas: 0.000650\n",
      "Pontuação de erro após 2000 tentativas: 0.000594\n",
      "Pontuação de erro após 2100 tentativas: 0.000546\n",
      "Pontuação de erro após 2200 tentativas: 0.000505\n",
      "Pontuação de erro após 2300 tentativas: 0.000469\n",
      "Pontuação de erro após 2400 tentativas: 0.000438\n"
     ]
    },
    {
     "data": {
      "image/png": "[encoded data removed]",
      "text/plain": [
       "<matplotlib.figure.Figure at 0x106f79860>"
      ]
     },
     "metadata": {},
     "output_type": "display_data"
    }
   ],
   "source": [
    "habilidades_por_brigada = treinamento(exemplos, rotulos, layout_cozinha, tentativas = 2500) "
   ]
  },
  {
   "cell_type": "markdown",
   "metadata": {},
   "source": [
    "# &#10109; Testar com imagens ainda não vistas (test set)\n",
    "\n",
    "..."
   ]
  },
  {
   "cell_type": "code",
   "execution_count": 18,
   "metadata": {
    "collapsed": true
   },
   "outputs": [],
   "source": [
    "def testar_com_pratos_novos(composicao_pratos, rotulos, habilidades):\n",
    "    numero_pratos = composicao_pratos.shape[1]\n",
    "    numero_brigadas = len(habilidades) // 2\n",
    "    probabilidade = np.zeros((1,numero_pratos))\n",
    "    \n",
    "    pratos, caderno_de_ocorrencias = prepara_pratos(composicao_pratos, habilidades)\n",
    "\n",
    "    for prato in range(0, pratos.shape[1]):\n",
    "        if pratos[0,prato] > 0.5:\n",
    "            probabilidade[0,prato] = 1\n",
    "        else:\n",
    "            probabilidade[0,prato] = 0\n",
    "    \n",
    "    print(\"Acurácia: \"  + str(np.sum((probabilidade == rotulos)/numero_pratos)))\n",
    "        \n",
    "    return probabilidade"
   ]
  },
  {
   "cell_type": "code",
   "execution_count": 19,
   "metadata": {},
   "outputs": [
    {
     "name": "stdout",
     "output_type": "stream",
     "text": [
      "Acurácia: 0.8\n"
     ]
    }
   ],
   "source": [
    "pred_test = testar_com_pratos_novos(amostra_teste, rotulos_teste, habilidades_por_brigada)"
   ]
  },
  {
   "cell_type": "code",
   "execution_count": null,
   "metadata": {
    "collapsed": true
   },
   "outputs": [],
   "source": []
  }
 ],
 "metadata": {
  "kernelspec": {
   "display_name": "Python 3",
   "language": "python",
   "name": "python3"
  },
  "language_info": {
   "codemirror_mode": {
    "name": "ipython",
    "version": 3
   },
   "file_extension": ".py",
   "mimetype": "text/x-python",
   "name": "python",
   "nbconvert_exporter": "python",
   "pygments_lexer": "ipython3",
   "version": "3.6.3"
  }
 },
 "nbformat": 4,
 "nbformat_minor": 2
}
