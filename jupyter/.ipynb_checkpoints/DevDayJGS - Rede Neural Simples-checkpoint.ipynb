{
 "cells": [
  {
   "cell_type": "markdown",
   "metadata": {},
   "source": [
    "# Rede Neural Para Classificar Pestinhas\n",
    "\n",
    "Usando a analogia de que uma rede neural é como uma cozinha gigante comandada por um chef, criaremos uma rede neural (mantendo os termos da analogia) para reconhecer o Loki e o Gauss, partindo somente das fotos deles.\n",
    "\n",
    "---\n",
    "\n",
    "<div style=\"display: flex; flex-direction: row;\">\n",
    "    <div style=\"padding: 1rem; background: linear-gradient(to top left, #FFA400, #F4D03F)\">\n",
    "        <h2>Loki</h2>\n",
    "        <img src=\"./imagens_notebook/Loki.jpg\">\n",
    "    </div>\n",
    "    <div style=\"margin-left: 10px; padding: 1rem; background: linear-gradient(to top left, #4B77BE, #89C4F4)\">\n",
    "        <h2>Gauss</h2>\n",
    "        <img src=\"./imagens_notebook/Gauss.jpg\">\n",
    "    </div>\n",
    "</div>\n",
    "\n",
    "Trabalharemos com imagens com tamanho reduzido (120x90 pixels) para acelerar o treinamento. Nenhum tratamento será feito nas imagens além do redimensionamento."
   ]
  },
  {
   "cell_type": "markdown",
   "metadata": {},
   "source": [
    "# &#10102; Importar pacotes\n",
    "\n",
    "Usaremos somente dois pacotes:\n",
    "\n",
    "* `numpy` para facilitar a álgebra matricial \n",
    "* `Python Image Library` para transformar as fotos em matrizes.\n"
   ]
  },
  {
   "cell_type": "code",
   "execution_count": 3,
   "metadata": {
    "collapsed": true
   },
   "outputs": [],
   "source": [
    "import numpy as np\n",
    "from PIL import Image"
   ]
  },
  {
   "cell_type": "markdown",
   "metadata": {},
   "source": [
    "# &#10103; Carregar fotos de treinamento\n",
    "\n",
    "A pasta `dataset/treinamento` contém as fotos que a rede usará para treinamento. Cada foto contém 10800 pixels ($120\\times90$), e separaremos os canais de cor (RGB) de cada pixel, totalizando 32400 ($10800\\times3$) elementos de entrada em nossa rede. "
   ]
  },
  {
   "cell_type": "code",
   "execution_count": null,
   "metadata": {
    "collapsed": true
   },
   "outputs": [],
   "source": [
    "import os\n",
    "\n",
    "def carregar_imagens(treinamento=true)\n",
    "    pasta = \"treinamento\" if treinamento else \"teste\"\n",
    "    path = f\"./dataset/{pasta}/\"\n",
    "    files = os.listdir(path)\n",
    "    random.shuffle(files)\n",
    "\n",
    "    for item in files:\n",
    "        im = Image.open(path + item)\n",
    "        flat = np.array(im)\n",
    "        train_set_x_orig.append(flat)\n",
    "        y = 0 if \"Gauss\" in item else 1\n",
    "        train_set_y_orig[0].append(y)"
   ]
  }
 ],
 "metadata": {
  "kernelspec": {
   "display_name": "Python 3",
   "language": "python",
   "name": "python3"
  },
  "language_info": {
   "codemirror_mode": {
    "name": "ipython",
    "version": 3
   },
   "file_extension": ".py",
   "mimetype": "text/x-python",
   "name": "python",
   "nbconvert_exporter": "python",
   "pygments_lexer": "ipython3",
   "version": "3.6.3"
  }
 },
 "nbformat": 4,
 "nbformat_minor": 2
}
