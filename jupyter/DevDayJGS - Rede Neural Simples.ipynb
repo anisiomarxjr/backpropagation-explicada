{
 "cells": [
  {
   "cell_type": "markdown",
   "metadata": {},
   "source": [
    "# Rede Neural Para Classificar Pestinhas\n",
    "\n",
    "Usando a analogia de que uma rede neural é como uma cozinha gigante comandada por um chef, criaremos uma rede neural (mantendo os termos da analogia) para reconhecer o Loki e o Gauss, partindo somente das fotos deles.\n",
    "\n",
    "---\n",
    "\n",
    "<div style=\"display: flex; flex-direction: row;\">\n",
    "    <div style=\"padding: 1rem; background: linear-gradient(to top left, #4B77BE, #89C4F4)\">\n",
    "        <h2>&#127244; Gauss</h2>\n",
    "        <img src=\"./imagens_notebook/Gauss.jpg\">\n",
    "    </div>\n",
    "    <div style=\"margin-left: 10px; padding: 1rem; background: linear-gradient(to top left, #FFA400, #F4D03F)\">\n",
    "        <h2>&#10102; Loki</h2>\n",
    "        <img src=\"./imagens_notebook/Loki.jpg\">\n",
    "    </div>\n",
    "</div>\n",
    "\n",
    "Trabalharemos com imagens com tamanho reduzido (120x90 pixels) para acelerar o treinamento. Nenhum tratamento será feito nas imagens além do redimensionamento."
   ]
  },
  {
   "cell_type": "markdown",
   "metadata": {},
   "source": [
    "# &#10102; Carregar fotos de treinamento\n",
    "\n",
    "A pasta `dataset/` contém as fotos que a rede usará para treinamento. Cada foto contém 10800 pixels ($120\\times90$), e separaremos os canais de cor (RGB) de cada pixel, totalizando 32400 ($10800\\times3$) elementos de entrada em nossa rede. "
   ]
  },
  {
   "cell_type": "code",
   "execution_count": 23,
   "metadata": {
    "collapsed": true
   },
   "outputs": [],
   "source": [
    "import os\n",
    "import random\n",
    "from PIL import Image\n",
    "\n",
    "nomes = [b'Gauss', b'Loki']\n",
    "# Gauss terá o código 0\n",
    "# Loki terá o código 1\n",
    "\n",
    "def carregar_imagens(treinamento = True):\n",
    "    pasta = \"treinamento\" if treinamento else \"teste\"\n",
    "    caminho = f\"./dataset/{pasta}/\"\n",
    "    arquivos_lidos = os.listdir(caminho)\n",
    "    random.shuffle(arquivos_lidos)  # mistura as imagens lidas\n",
    "    tensor_de_imagens = []\n",
    "    matriz_de_codigos = [[]]\n",
    "\n",
    "    for arquivo in arquivos_lidos:\n",
    "        foto = Image.open(caminho + arquivo)\n",
    "        pixels_da_foto = np.array(foto)\n",
    "        tensor_de_imagens.append(pixels_da_foto)        \n",
    "        codigo = 0 if \"Gauss\" in arquivo else 1\n",
    "        matriz_de_codigos[0].append(codigo)\n",
    "\n",
    "    return np.array(tensor_de_imagens), np.array(matriz_de_codigos)\n",
    "\n",
    "tensor_de_imagens_de_treinamento, matriz_de_codigos_de_treinamento = carregar_imagens()\n",
    "tensor_de_imagens_de_teste, matriz_de_codigos_de_teste = carregar_imagens(treinamento = False)"
   ]
  },
  {
   "cell_type": "markdown",
   "metadata": {},
   "source": [
    "Ótimo! Agora vamos \"desenrolar\" a matriz de imagens para servir de entrada em nossa rede neural."
   ]
  },
  {
   "cell_type": "code",
   "execution_count": 24,
   "metadata": {
    "collapsed": true
   },
   "outputs": [],
   "source": [
    "matriz_de_imagens_de_treinamento = tensor_de_imagens_de_treinamento.reshape(tensor_de_imagens_de_treinamento.shape[0], -1).T\n",
    "matriz_de_imagens_de_teste = tensor_de_imagens_de_teste.reshape(tensor_de_imagens_de_teste.shape[0], -1).T\n",
    "\n",
    "# Padroniza valores para evitar problemas de instabilidade numérica\n",
    "matriz_de_treinamento = matriz_de_imagens_de_treinamento/255.\n",
    "matriz_de_teste = matriz_de_imagens_de_teste/255."
   ]
  },
  {
   "cell_type": "markdown",
   "metadata": {
    "collapsed": true
   },
   "source": [
    "# &#10103; Montar layout da cozinha\n",
    "\n",
    "O chef precisa montar o layout da cozinha, com as praças (bancadas) e os equipamentos que serão utilizados pelas brigadas (times).\n",
    "\n",
    "Neste exemplo, a cozinha será formada por:\n",
    "\n",
    "| Brigada  | Número de cozinheiros | Responsabilidade                                      | Ativação |\n",
    "| :------: |:---------------------:| :-----------------------------------------------------| :------: |\n",
    "| 1        | 20                    | Trabalhar nos ingredientes dos pratos de treinamento  | Freezer  |\n",
    "| 2        | 9                     | Trabalhar no *mise en place* feito pelo primeiro time | Freezer  |\n",
    "| 3        | 7                     | Trabalhar no *mise en place* feito pelo segundo time  | Freezer  |\n",
    "| 4        | 5                     | Trabalhar no *mise en place* feito pelo terceiro time | Freezer  |\n",
    "| 5        | 1                     | Preparar o prato para apresentação ao chef            | Forno    |\n"
   ]
  },
  {
   "cell_type": "code",
   "execution_count": 25,
   "metadata": {
    "collapsed": true
   },
   "outputs": [],
   "source": [
    "# 32400 representa os ingredientes dos pratos de treinamento. \n",
    "# Em nosso exemplo, são as intensidades dos pixels das imagens do Loki e Gauss\n",
    "layout_cozinha = [32400, 20, 9, 7, 5, 1]"
   ]
  },
  {
   "cell_type": "markdown",
   "metadata": {},
   "source": [
    "# &#10104; Contratar cozinheiros\n",
    "\n",
    "Ao contratar os cozinheiros, eles chegam com habilidades diversas em relação aos ingredientes que a cozinha trabalha e em relação ao trabalho das brigadas anteriores. Essa função simula isso por iniciar as habilidades de todos de forma aleatória:"
   ]
  },
  {
   "cell_type": "code",
   "execution_count": 12,
   "metadata": {
    "collapsed": true
   },
   "outputs": [],
   "source": [
    "import numpy as np\n",
    "\n",
    "HABILIDADES_BRIGADA = \"HABILIDADES_BRIGADA\"\n",
    "EQUIPAMENTOS_BRIGADA = \"EQUIPAMENTOS_BRIGADA\"\n",
    "\n",
    "def contrata_time(layout_cozinha):\n",
    "    np.random.seed(1)\n",
    "    habilidades_por_brigada = {}\n",
    "    numero_brigadas = len(layout_cozinha)  # Numero de brigadas na cozinha\n",
    "\n",
    "    for brigada in range(1, numero_brigadas):\n",
    "        habilidades_por_brigada[HABILIDADES_BRIGADA + str(brigada)] = np.random.randn(layout_cozinha[brigada], layout_cozinha[brigada - 1]) / np.sqrt(layout_cozinha[brigada - 1]) * 0.01\n",
    "        habilidades_por_brigada[EQUIPAMENTOS_BRIGADA + str(brigada)] = np.zeros((layout_cozinha[brigada], 1))\n",
    "        \n",
    "        assert(habilidades_por_brigada[HABILIDADES_BRIGADA + str(brigada)].shape == (layout_cozinha[brigada], layout_cozinha[brigada-1]))\n",
    "        assert(habilidades_por_brigada[EQUIPAMENTOS_BRIGADA + str(brigada)].shape == (layout_cozinha[brigada], 1))\n",
    "\n",
    "        \n",
    "    return habilidades_por_brigada"
   ]
  },
  {
   "cell_type": "markdown",
   "metadata": {},
   "source": [
    "Para termos uma noção do que ocorre, vamos analisar as habilidades do time x: #TODO"
   ]
  },
  {
   "cell_type": "markdown",
   "metadata": {},
   "source": [
    "# &#10105; Descrever atividades das brigadas\n",
    "\n",
    "> Um primeiro passo nessa atividade é deixar preparado as funções que serão chamadas representando o papel do forno e freezer. Existe uma explicação técnica por trás dessas funções, mas não se preocupe com elas agora."
   ]
  },
  {
   "cell_type": "code",
   "execution_count": 13,
   "metadata": {
    "collapsed": true
   },
   "outputs": [],
   "source": [
    "def forno(resultado_trabalhos_manuais):  # Forno\n",
    "    mise_en_place = 1/(1 + np.exp(-resultado_trabalhos_manuais))\n",
    "    caderno_de_ocorrencias = resultado_trabalhos_manuais\n",
    "    \n",
    "    return mise_en_place, caderno_de_ocorrencias\n",
    "\n",
    "\n",
    "def freezer(resultado_trabalhos_manuais):  # Freezer\n",
    "    mise_en_place = np.maximum(0,resultado_trabalhos_manuais)\n",
    "    \n",
    "    assert(mise_en_place.shape == resultado_trabalhos_manuais.shape)\n",
    "    \n",
    "    caderno_de_ocorrencias = resultado_trabalhos_manuais\n",
    "    return mise_en_place, caderno_de_ocorrencias"
   ]
  },
  {
   "cell_type": "markdown",
   "metadata": {},
   "source": [
    "<div style=\"background-color: #3498db; display: inline-block; border: 1px solid black; padding: 2px\">4.1</div> Primeiro, as brigadas precisam trabalhar nos ingredientes ou no *mise en place* do time anterior. "
   ]
  },
  {
   "cell_type": "code",
   "execution_count": 6,
   "metadata": {
    "collapsed": true
   },
   "outputs": [],
   "source": [
    "def trabalhos_manuais(mise_en_place_anterior, habilidades_da_brigada, equipamentos_da_brigada):\n",
    "    resultado = habilidades_da_brigada.dot(mise_en_place_anterior) + equipamentos_da_brigada\n",
    "    \n",
    "    assert(resultado.shape == (habilidades_da_brigada.shape[0], mise_en_place_anterior.shape[1]))\n",
    "    caderno_de_ocorrencias = (mise_en_place_anterior, habilidades_da_brigada, equipamentos_da_brigada)\n",
    "    \n",
    "    return resultado, caderno_de_ocorrencias"
   ]
  },
  {
   "cell_type": "markdown",
   "metadata": {},
   "source": [
    "<div style=\"background-color: #3498db; display: inline-block; border: 1px solid black; padding: 2px\">4.2</div> Depois, o resultado do trabalho é organizado para ser utilizado pelo time posterior. Isso é feito levando o que foi preparado para o aparelho disponível pela brigada, um freezer ou forno, produzindo um novo *mise en place*:"
   ]
  },
  {
   "cell_type": "code",
   "execution_count": 35,
   "metadata": {
    "collapsed": true
   },
   "outputs": [],
   "source": [
    "def produz_novo_mise_en_place(mise_en_place_anterior, habilidades_da_brigada, equipamentos_da_brigada, aparelho):\n",
    "    resultado_prep_manual, caderno_de_ocorrencias_manual = trabalhos_manuais(mise_en_place_anterior, habilidades_da_brigada, equipamentos_da_brigada)\n",
    "\n",
    "    if aparelho == \"forno\":\n",
    "        novo_mise_en_place, caderno_de_ocorrencias_aparelho = forno(resultado_prep_manual)    \n",
    "    elif aparelho == \"freezer\":\n",
    "        novo_mise_en_place, caderno_de_ocorrencias_aparelho = freezer(resultado_prep_manual)\n",
    "    \n",
    "    assert (novo_mise_en_place.shape == (habilidades_da_brigada.shape[0], mise_en_place_anterior.shape[1]))\n",
    "    caderno_de_ocorrencias = (caderno_de_ocorrencias_manual, caderno_de_ocorrencias_aparelho)\n",
    "\n",
    "    return novo_mise_en_place, caderno_de_ocorrencias"
   ]
  },
  {
   "cell_type": "markdown",
   "metadata": {},
   "source": [
    "<div style=\"background-color: #3498db; display: inline-block; border: 1px solid black; padding: 2px\">4.3</div> Por fim, preparamos uma função responsável por percorrer todas as brigadas, cada uma realizando o seu trabalho e disponibilizando para a brigada posterior, até que a última brigada faça a preparação dos pratos."
   ]
  },
  {
   "cell_type": "code",
   "execution_count": 29,
   "metadata": {
    "collapsed": true
   },
   "outputs": [],
   "source": [
    "def prepara_pratos(ingredientes, habilidades_por_brigada):\n",
    "    caderno_de_ocorrencias = []\n",
    "    mise_en_place = ingredientes\n",
    "    numero_brigadas = len(habilidades_por_brigada) // 2  # número de brigadas na cozinha\n",
    "    \n",
    "    for brigada in range(1, numero_brigadas):\n",
    "        preparacao_time_anterior = mise_en_place \n",
    "        mise_en_place, ocorrencias = produz_novo_mise_en_place(preparacao_time_anterior, habilidades_por_brigada[HABILIDADES_BRIGADA + str(brigada)], habilidades_por_brigada[EQUIPAMENTOS_BRIGADA + str(brigada)], aparelho = \"freezer\")\n",
    "        caderno_de_ocorrencias.append(ocorrencias)\n",
    "    \n",
    "    pratos, ocorrencias = produz_novo_mise_en_place(mise_en_place, habilidades_por_brigada[HABILIDADES_BRIGADA + str(numero_brigadas)], habilidades_por_brigada[EQUIPAMENTOS_BRIGADA + str(numero_brigadas)], aparelho = \"forno\")\n",
    "    caderno_de_ocorrencias.append(ocorrencias)\n",
    "    \n",
    "    assert(pratos.shape == (1,ingredientes.shape[1]))\n",
    "            \n",
    "    return pratos, caderno_de_ocorrencias"
   ]
  },
  {
   "cell_type": "markdown",
   "metadata": {},
   "source": [
    "# &#10106; Definir como encontrar a culpa das brigadas/aparelhos\n",
    "\n",
    "As funções abaixo definem o procedimento para encontrar a culpa da habilidade do time, dos equipamentos utilizados pelo time e quando da culpa veio do *mise en place* produzido pelo time anterior:\n"
   ]
  },
  {
   "cell_type": "code",
   "execution_count": 45,
   "metadata": {
    "collapsed": true
   },
   "outputs": [],
   "source": [
    "def acha_culpa_freezer(culpa_do_aparelho_posterior, caderno_de_ocorrencias):    \n",
    "    preparacao_manual = caderno_de_ocorrencias\n",
    "    culpa_da_preparacao_manual = np.array(culpa_do_aparelho_posterior, copy=True) \n",
    "    \n",
    "    culpa_da_preparacao_manual[preparacao_manual <= 0] = 0\n",
    "    \n",
    "    assert (culpa_da_preparacao_manual.shape == preparacao_manual.shape)\n",
    "    \n",
    "    return culpa_da_preparacao_manual\n",
    "\n",
    "\n",
    "def acha_culpa_forno(culpa_da_montagem, caderno_de_ocorrencias):\n",
    "    preparacao_manual = caderno_de_ocorrencias\n",
    "    \n",
    "    s = 1/(1+np.exp(-preparacao_manual))\n",
    "    culpa_da_preparacao_manual = culpa_da_montagem * s * (1-s)\n",
    "    \n",
    "    assert (culpa_da_preparacao_manual.shape == preparacao_manual.shape)\n",
    "    \n",
    "    return culpa_da_preparacao_manual\n",
    "\n",
    "\n",
    "def acha_culpa_mise_en_place_anterior(culpa_preparacao_manual, caderno_de_ocorrencias):\n",
    "    mise_en_place_recebido, habilidades_brigada, equipamentos_brigada = caderno_de_ocorrencias\n",
    "    numero_pratos = mise_en_place_recebido.shape[1]\n",
    "\n",
    "    culpa_habilidades_brigada = 1./numero_pratos * np.dot(culpa_preparacao_manual, mise_en_place_recebido.T)\n",
    "    culpa_equipamentos_brigada = 1./numero_pratos * np.sum(culpa_preparacao_manual, axis = 1, keepdims = True)\n",
    "    culpa_mise_en_place_recebido = np.dot(habilidades_brigada.T, culpa_preparacao_manual)\n",
    "    \n",
    "    assert (culpa_mise_en_place_recebido.shape == mise_en_place_recebido.shape)\n",
    "    assert (culpa_habilidades_brigada.shape == habilidades_brigada.shape)\n",
    "    assert (culpa_equipamentos_brigada.shape == equipamentos_brigada.shape)\n",
    "    \n",
    "    return culpa_mise_en_place_recebido, culpa_habilidades_brigada, culpa_equipamentos_brigada\n",
    "\n",
    "\n",
    "def acha_culpa_brigada(culpa_aparelho, caderno_de_ocorrencias, aparelho):\n",
    "    preparacao_manual, mise_en_place = caderno_de_ocorrencias\n",
    "    \n",
    "    if aparelho == \"freezer\":\n",
    "        culpa_preparacao_manual = acha_culpa_freezer(culpa_aparelho, mise_en_place)\n",
    "    elif aparelho == \"forno\":\n",
    "        culpa_preparacao_manual = acha_culpa_forno(culpa_aparelho, mise_en_place)\n",
    "    \n",
    "    culpa_mise_en_place, culpa_habilidades_brigada, culpa_equipamentos_brigada = acha_culpa_mise_en_place_anterior(culpa_preparacao_manual, preparacao_manual)\n",
    "    \n",
    "    return culpa_mise_en_place, culpa_habilidades_brigada, culpa_equipamentos_brigada"
   ]
  },
  {
   "cell_type": "markdown",
   "metadata": {},
   "source": [
    "Ah, finalmente chegamos ao backpropagation. Essa fase é como se fosse uma retrospectiva para o time, para que verifiquem onde erraram e aprendam.\n",
    "\n",
    "Primeiro, o chef calcula uma pontuação de erros. Quanto maior, pior. A partir daí passa a distribuir a culpa entre todos os membros do time."
   ]
  },
  {
   "cell_type": "code",
   "execution_count": 20,
   "metadata": {
    "collapsed": true
   },
   "outputs": [],
   "source": [
    "def calcula_pontuacao_de_erro(pratos_do_time, pratos_corretos):\n",
    "    numero_pratos = pratos_corretos.shape[1]\n",
    "\n",
    "    erro = (1./numero_pratos) * (-np.dot(pratos_corretos,np.log(pratos_do_time).T) - np.dot(1 - pratos_corretos, np.log(1 - pratos_do_time).T))\n",
    "    \n",
    "    erro = np.squeeze(erro)\n",
    "    assert(erro.shape == ())\n",
    "    \n",
    "    return erro"
   ]
  },
  {
   "cell_type": "code",
   "execution_count": 51,
   "metadata": {
    "collapsed": true
   },
   "outputs": [],
   "source": [
    "CULPA_MISE_EN_PLACE_RECEBIDO = \"CULPA_MISE_EN_PLACE_RECEBIDO\"\n",
    "CULPA_HABILIDADES_BRIGADA = \"CULPA_HABILIDADES_BRIGADA\"\n",
    "CULPA_EQUIPAMENTOS_BRIGADA = \"CULPA_EQUIPAMENTOS_BRIGADA\"\n",
    "\n",
    "def distribui_culpa(pratos_do_time, pratos_corretos, caderno_de_ocorrencias):\n",
    "    culpa = {}\n",
    "    numero_brigadas = len(caderno_de_ocorrencias) \n",
    "    numero_pratos = pratos_do_time.shape[1]\n",
    "    pratos_corretos = pratos_corretos.reshape(pratos_do_time.shape) \n",
    "    \n",
    "    erro_na_tentativa = - (np.divide(pratos_corretos, pratos_do_time) - np.divide(1 - pratos_corretos, 1 - pratos_do_time))\n",
    "    \n",
    "    ocorrencia_atual = caderno_de_ocorrencias[numero_brigadas - 1]\n",
    "    culpa[CULPA_MISE_EN_PLACE_RECEBIDO + str(numero_brigadas)], culpa[CULPA_HABILIDADES_BRIGADA + str(numero_brigadas)], culpa[CULPA_EQUIPAMENTOS_BRIGADA + str(numero_brigadas)] = acha_culpa_brigada(erro_na_tentativa, ocorrencia_atual, aparelho = \"forno\")\n",
    "    \n",
    "    for brigada in reversed(range(numero_brigadas - 1)):\n",
    "        ocorrencia_atual = caderno_de_ocorrencias[brigada]\n",
    "        culpa_mise_en_place, culpa_habilidades_brigada, culpa_equipamentos_brigada = acha_culpa_brigada(culpa[CULPA_MISE_EN_PLACE_RECEBIDO + str(brigada + 2)], ocorrencia_atual, aparelho = \"freezer\")\n",
    "        culpa[CULPA_MISE_EN_PLACE_RECEBIDO + str(brigada + 1)] = culpa_mise_en_place\n",
    "        culpa[CULPA_HABILIDADES_BRIGADA + str(brigada + 1)] = culpa_habilidades_brigada\n",
    "        culpa[CULPA_EQUIPAMENTOS_BRIGADA + str(brigada + 1)] = culpa_equipamentos_brigada\n",
    "\n",
    "    return culpa"
   ]
  },
  {
   "cell_type": "markdown",
   "metadata": {},
   "source": [
    "# &#10107; Chef faz as melhorias de habilidade e de equipamentos necessárias\n",
    "\n",
    "..."
   ]
  },
  {
   "cell_type": "code",
   "execution_count": 17,
   "metadata": {
    "collapsed": true
   },
   "outputs": [],
   "source": [
    "def upgrade_habilidades_equipamentos(habilidades_por_brigada, culpa, grosseria_do_chef):\n",
    "    numero_de_brigadas = len(habilidades_por_brigada) // 2 \n",
    "\n",
    "    for brigada in range(numero_de_brigadas):\n",
    "        habilidades_por_brigada[HABILIDADES_BRIGADA + str(brigada + 1)] = habilidades_por_brigada[HABILIDADES_BRIGADA + str(brigada + 1)] - grosseria_do_chef * culpa[CULPA_HABILIDADES_BRIGADA + str(brigada + 1)]\n",
    "        habilidades_por_brigada[EQUIPAMENTOS_BRIGADA + str(brigada + 1)] = habilidades_por_brigada[HABILIDADES_BRIGADA + str(brigada + 1)] - grosseria_do_chef * culpa[CULPA_HABILIDADES_BRIGADA + str(brigada + 1)]\n",
    "        \n",
    "    return habilidades_por_brigada"
   ]
  },
  {
   "cell_type": "markdown",
   "metadata": {},
   "source": [
    "# &#10108; Treinamento\n",
    "\n",
    "\"Olhem aqui, (seus merdinhas|cozinheiros|time)\"..."
   ]
  },
  {
   "cell_type": "code",
   "execution_count": 53,
   "metadata": {
    "collapsed": true
   },
   "outputs": [],
   "source": [
    "import matplotlib.pyplot as plt\n",
    "\n",
    "def treinamento(ingredientes, pratos_corretos, layout_cozinha, grosseria = 0.0075, tentativas = 3000):\n",
    "    np.random.seed(1)\n",
    "    erros = [] \n",
    "    \n",
    "    habilidades_por_brigada = contrata_time(layout_cozinha)\n",
    "\n",
    "    for tentativa in range(0, tentativas):\n",
    "        pratos_do_time, caderno_de_ocorrencias = prepara_pratos(ingredientes, habilidades_por_brigada)\n",
    "        pontuacao_de_erro = calcula_pontuacao_de_erro(pratos_do_time, pratos_corretos)\n",
    "\n",
    "        culpa = distribui_culpa(pratos_do_time, pratos_corretos, caderno_de_ocorrencias)\n",
    "\n",
    "        habilidades_por_brigada = upgrade_habilidades_equipamentos(habilidades_por_brigada, culpa, grosseria)\n",
    "\n",
    "        if tentativa % 100 == 0:\n",
    "            print (\"Pontuação de erro após %i tentativas: %f\" %(tentativa, pontuacao_de_erro))\n",
    "            erros.append(pontuacao_de_erro)\n",
    "            \n",
    "    # plot the cost\n",
    "    plt.plot(np.squeeze(costs))\n",
    "    plt.ylabel('erro')\n",
    "    plt.xlabel('tentativas')\n",
    "    plt.title(\"Grosseria = \" + str(grosseria))\n",
    "    plt.show()\n",
    "    \n",
    "    return habilidades_por_brigada"
   ]
  },
  {
   "cell_type": "markdown",
   "metadata": {},
   "source": [
    "Agora vamos ao treinamento..."
   ]
  },
  {
   "cell_type": "code",
   "execution_count": 54,
   "metadata": {},
   "outputs": [
    {
     "name": "stdout",
     "output_type": "stream",
     "text": [
      "Pontuação de erro após 0 tentativas: 0.693147\n"
     ]
    },
    {
     "ename": "ValueError",
     "evalue": "operands could not be broadcast together with shapes (20,123) (20,32400) ",
     "output_type": "error",
     "traceback": [
      "\u001b[0;31m---------------------------------------------------------------------------\u001b[0m",
      "\u001b[0;31mValueError\u001b[0m                                Traceback (most recent call last)",
      "\u001b[0;32m<ipython-input-54-caba821cd5c8>\u001b[0m in \u001b[0;36m<module>\u001b[0;34m()\u001b[0m\n\u001b[0;32m----> 1\u001b[0;31m \u001b[0mhabilidades_por_brigada\u001b[0m \u001b[0;34m=\u001b[0m \u001b[0mtreinamento\u001b[0m\u001b[0;34m(\u001b[0m\u001b[0mmatriz_de_imagens_de_treinamento\u001b[0m\u001b[0;34m,\u001b[0m \u001b[0mmatriz_de_codigos_de_treinamento\u001b[0m\u001b[0;34m,\u001b[0m \u001b[0mlayout_cozinha\u001b[0m\u001b[0;34m,\u001b[0m \u001b[0mtentativas\u001b[0m \u001b[0;34m=\u001b[0m \u001b[0;36m2500\u001b[0m\u001b[0;34m)\u001b[0m\u001b[0;34m\u001b[0m\u001b[0m\n\u001b[0m",
      "\u001b[0;32m<ipython-input-53-7639267edb1b>\u001b[0m in \u001b[0;36mtreinamento\u001b[0;34m(ingredientes, pratos_corretos, layout_cozinha, grosseria, tentativas)\u001b[0m\n\u001b[1;32m      8\u001b[0m \u001b[0;34m\u001b[0m\u001b[0m\n\u001b[1;32m      9\u001b[0m     \u001b[0;32mfor\u001b[0m \u001b[0mtentativa\u001b[0m \u001b[0;32min\u001b[0m \u001b[0mrange\u001b[0m\u001b[0;34m(\u001b[0m\u001b[0;36m0\u001b[0m\u001b[0;34m,\u001b[0m \u001b[0mtentativas\u001b[0m\u001b[0;34m)\u001b[0m\u001b[0;34m:\u001b[0m\u001b[0;34m\u001b[0m\u001b[0m\n\u001b[0;32m---> 10\u001b[0;31m         \u001b[0mpratos_do_time\u001b[0m\u001b[0;34m,\u001b[0m \u001b[0mcaderno_de_ocorrencias\u001b[0m \u001b[0;34m=\u001b[0m \u001b[0mprepara_pratos\u001b[0m\u001b[0;34m(\u001b[0m\u001b[0mingredientes\u001b[0m\u001b[0;34m,\u001b[0m \u001b[0mhabilidades_por_brigada\u001b[0m\u001b[0;34m)\u001b[0m\u001b[0;34m\u001b[0m\u001b[0m\n\u001b[0m\u001b[1;32m     11\u001b[0m         \u001b[0mpontuacao_de_erro\u001b[0m \u001b[0;34m=\u001b[0m \u001b[0mcalcula_pontuacao_de_erro\u001b[0m\u001b[0;34m(\u001b[0m\u001b[0mpratos_do_time\u001b[0m\u001b[0;34m,\u001b[0m \u001b[0mpratos_corretos\u001b[0m\u001b[0;34m)\u001b[0m\u001b[0;34m\u001b[0m\u001b[0m\n\u001b[1;32m     12\u001b[0m \u001b[0;34m\u001b[0m\u001b[0m\n",
      "\u001b[0;32m<ipython-input-29-43187e8f1bc6>\u001b[0m in \u001b[0;36mprepara_pratos\u001b[0;34m(ingredientes, habilidades_por_brigada)\u001b[0m\n\u001b[1;32m      6\u001b[0m     \u001b[0;32mfor\u001b[0m \u001b[0mbrigada\u001b[0m \u001b[0;32min\u001b[0m \u001b[0mrange\u001b[0m\u001b[0;34m(\u001b[0m\u001b[0;36m1\u001b[0m\u001b[0;34m,\u001b[0m \u001b[0mnumero_brigadas\u001b[0m\u001b[0;34m)\u001b[0m\u001b[0;34m:\u001b[0m\u001b[0;34m\u001b[0m\u001b[0m\n\u001b[1;32m      7\u001b[0m         \u001b[0mpreparacao_time_anterior\u001b[0m \u001b[0;34m=\u001b[0m \u001b[0mmise_en_place\u001b[0m\u001b[0;34m\u001b[0m\u001b[0m\n\u001b[0;32m----> 8\u001b[0;31m         \u001b[0mmise_en_place\u001b[0m\u001b[0;34m,\u001b[0m \u001b[0mocorrencias\u001b[0m \u001b[0;34m=\u001b[0m \u001b[0mproduz_novo_mise_en_place\u001b[0m\u001b[0;34m(\u001b[0m\u001b[0mpreparacao_time_anterior\u001b[0m\u001b[0;34m,\u001b[0m \u001b[0mhabilidades_por_brigada\u001b[0m\u001b[0;34m[\u001b[0m\u001b[0mHABILIDADES_BRIGADA\u001b[0m \u001b[0;34m+\u001b[0m \u001b[0mstr\u001b[0m\u001b[0;34m(\u001b[0m\u001b[0mbrigada\u001b[0m\u001b[0;34m)\u001b[0m\u001b[0;34m]\u001b[0m\u001b[0;34m,\u001b[0m \u001b[0mhabilidades_por_brigada\u001b[0m\u001b[0;34m[\u001b[0m\u001b[0mEQUIPAMENTOS_BRIGADA\u001b[0m \u001b[0;34m+\u001b[0m \u001b[0mstr\u001b[0m\u001b[0;34m(\u001b[0m\u001b[0mbrigada\u001b[0m\u001b[0;34m)\u001b[0m\u001b[0;34m]\u001b[0m\u001b[0;34m,\u001b[0m \u001b[0maparelho\u001b[0m \u001b[0;34m=\u001b[0m \u001b[0;34m\"freezer\"\u001b[0m\u001b[0;34m)\u001b[0m\u001b[0;34m\u001b[0m\u001b[0m\n\u001b[0m\u001b[1;32m      9\u001b[0m         \u001b[0mcaderno_de_ocorrencias\u001b[0m\u001b[0;34m.\u001b[0m\u001b[0mappend\u001b[0m\u001b[0;34m(\u001b[0m\u001b[0mocorrencias\u001b[0m\u001b[0;34m)\u001b[0m\u001b[0;34m\u001b[0m\u001b[0m\n\u001b[1;32m     10\u001b[0m \u001b[0;34m\u001b[0m\u001b[0m\n",
      "\u001b[0;32m<ipython-input-35-14b441d11c97>\u001b[0m in \u001b[0;36mproduz_novo_mise_en_place\u001b[0;34m(mise_en_place_anterior, habilidades_da_brigada, equipamentos_da_brigada, aparelho)\u001b[0m\n\u001b[1;32m      1\u001b[0m \u001b[0;32mdef\u001b[0m \u001b[0mproduz_novo_mise_en_place\u001b[0m\u001b[0;34m(\u001b[0m\u001b[0mmise_en_place_anterior\u001b[0m\u001b[0;34m,\u001b[0m \u001b[0mhabilidades_da_brigada\u001b[0m\u001b[0;34m,\u001b[0m \u001b[0mequipamentos_da_brigada\u001b[0m\u001b[0;34m,\u001b[0m \u001b[0maparelho\u001b[0m\u001b[0;34m)\u001b[0m\u001b[0;34m:\u001b[0m\u001b[0;34m\u001b[0m\u001b[0m\n\u001b[0;32m----> 2\u001b[0;31m     \u001b[0mresultado_prep_manual\u001b[0m\u001b[0;34m,\u001b[0m \u001b[0mcaderno_de_ocorrencias_manual\u001b[0m \u001b[0;34m=\u001b[0m \u001b[0mtrabalhos_manuais\u001b[0m\u001b[0;34m(\u001b[0m\u001b[0mmise_en_place_anterior\u001b[0m\u001b[0;34m,\u001b[0m \u001b[0mhabilidades_da_brigada\u001b[0m\u001b[0;34m,\u001b[0m \u001b[0mequipamentos_da_brigada\u001b[0m\u001b[0;34m)\u001b[0m\u001b[0;34m\u001b[0m\u001b[0m\n\u001b[0m\u001b[1;32m      3\u001b[0m \u001b[0;34m\u001b[0m\u001b[0m\n\u001b[1;32m      4\u001b[0m     \u001b[0;32mif\u001b[0m \u001b[0maparelho\u001b[0m \u001b[0;34m==\u001b[0m \u001b[0;34m\"forno\"\u001b[0m\u001b[0;34m:\u001b[0m\u001b[0;34m\u001b[0m\u001b[0m\n\u001b[1;32m      5\u001b[0m         \u001b[0mnovo_mise_en_place\u001b[0m\u001b[0;34m,\u001b[0m \u001b[0mcaderno_de_ocorrencias_aparelho\u001b[0m \u001b[0;34m=\u001b[0m \u001b[0mforno\u001b[0m\u001b[0;34m(\u001b[0m\u001b[0mresultado_prep_manual\u001b[0m\u001b[0;34m)\u001b[0m\u001b[0;34m\u001b[0m\u001b[0m\n",
      "\u001b[0;32m<ipython-input-6-aeeda1c83da3>\u001b[0m in \u001b[0;36mtrabalhos_manuais\u001b[0;34m(mise_en_place_anterior, habilidades_da_brigada, modificadores_da_brigada)\u001b[0m\n\u001b[1;32m      1\u001b[0m \u001b[0;32mdef\u001b[0m \u001b[0mtrabalhos_manuais\u001b[0m\u001b[0;34m(\u001b[0m\u001b[0mmise_en_place_anterior\u001b[0m\u001b[0;34m,\u001b[0m \u001b[0mhabilidades_da_brigada\u001b[0m\u001b[0;34m,\u001b[0m \u001b[0mmodificadores_da_brigada\u001b[0m\u001b[0;34m)\u001b[0m\u001b[0;34m:\u001b[0m\u001b[0;34m\u001b[0m\u001b[0m\n\u001b[0;32m----> 2\u001b[0;31m     \u001b[0mresultado\u001b[0m \u001b[0;34m=\u001b[0m \u001b[0mhabilidades_da_brigada\u001b[0m\u001b[0;34m.\u001b[0m\u001b[0mdot\u001b[0m\u001b[0;34m(\u001b[0m\u001b[0mmise_en_place_anterior\u001b[0m\u001b[0;34m)\u001b[0m \u001b[0;34m+\u001b[0m \u001b[0mmodificadores_da_brigada\u001b[0m\u001b[0;34m\u001b[0m\u001b[0m\n\u001b[0m\u001b[1;32m      3\u001b[0m \u001b[0;34m\u001b[0m\u001b[0m\n\u001b[1;32m      4\u001b[0m     \u001b[0;32massert\u001b[0m\u001b[0;34m(\u001b[0m\u001b[0mresultado\u001b[0m\u001b[0;34m.\u001b[0m\u001b[0mshape\u001b[0m \u001b[0;34m==\u001b[0m \u001b[0;34m(\u001b[0m\u001b[0mhabilidades_da_brigada\u001b[0m\u001b[0;34m.\u001b[0m\u001b[0mshape\u001b[0m\u001b[0;34m[\u001b[0m\u001b[0;36m0\u001b[0m\u001b[0;34m]\u001b[0m\u001b[0;34m,\u001b[0m \u001b[0mmise_en_place_anterior\u001b[0m\u001b[0;34m.\u001b[0m\u001b[0mshape\u001b[0m\u001b[0;34m[\u001b[0m\u001b[0;36m1\u001b[0m\u001b[0;34m]\u001b[0m\u001b[0;34m)\u001b[0m\u001b[0;34m)\u001b[0m\u001b[0;34m\u001b[0m\u001b[0m\n\u001b[1;32m      5\u001b[0m     \u001b[0mcaderno_de_ocorrencias\u001b[0m \u001b[0;34m=\u001b[0m \u001b[0;34m(\u001b[0m\u001b[0mmise_en_place_anterior\u001b[0m\u001b[0;34m,\u001b[0m \u001b[0mhabilidades_da_brigada\u001b[0m\u001b[0;34m,\u001b[0m \u001b[0mmodificadores_da_brigada\u001b[0m\u001b[0;34m)\u001b[0m\u001b[0;34m\u001b[0m\u001b[0m\n",
      "\u001b[0;31mValueError\u001b[0m: operands could not be broadcast together with shapes (20,123) (20,32400) "
     ]
    }
   ],
   "source": [
    "habilidades_por_brigada = treinamento(matriz_de_imagens_de_treinamento, matriz_de_codigos_de_treinamento, layout_cozinha, tentativas = 2500)"
   ]
  },
  {
   "cell_type": "code",
   "execution_count": null,
   "metadata": {
    "collapsed": true
   },
   "outputs": [],
   "source": []
  }
 ],
 "metadata": {
  "kernelspec": {
   "display_name": "Python 3",
   "language": "python",
   "name": "python3"
  },
  "language_info": {
   "codemirror_mode": {
    "name": "ipython",
    "version": 3
   },
   "file_extension": ".py",
   "mimetype": "text/x-python",
   "name": "python",
   "nbconvert_exporter": "python",
   "pygments_lexer": "ipython3",
   "version": "3.6.3"
  }
 },
 "nbformat": 4,
 "nbformat_minor": 2
}
